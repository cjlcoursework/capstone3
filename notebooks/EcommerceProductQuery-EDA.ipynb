{
 "cells": [
  {
   "cell_type": "markdown",
   "source": [
    "<br/>\n",
    "\n",
    "# <font color=teal>Ecommerce Shopping Project</font>\n",
    "\n",
    "This project is based on the Amazon KDD Cup 2023 challenge to classify customer shopping queries as related or not related to product descriptions\n",
    "\n",
    "find the challenge [Here](https://www.aicrowd.com/challenges/amazon-kdd-cup-23-multilingual-recommendation-challenge)\n",
    "\n",
    "<br/>\n",
    "\n",
    "\n",
    "### <font color=teal>Goal</font>\n",
    "This project will focus on Task 1 of the challenge : 'Next Product Recommendation'\n",
    "\n",
    "This notebook performs the data analysis and EDA for the project\n",
    "\n",
    "<br/>\n",
    "\n",
    "\n",
    "### <font color=teal>Input</font>\n",
    "Hugging face Shopping Session Dataset : [Datasets](https://www.aicrowd.com/challenges/amazon-kdd-cup-23-multilingual-recommendation-challenge/problems/task-3-next-product-title-generation#dataset)\n",
    "\n",
    "\n",
    "The ```query``` (train) data contains customer shopping queries, with pointers to a product_id and a lable showing how close or far the query is from an actual product\n",
    "\n",
    "\n",
    "The ```products``` (product) data contains product descriptions\n",
    "\n",
    "<br/>\n",
    "\n",
    "\n",
    "### <font color=teal>Approach</font>\n",
    " \n",
    "Use the pre-trained hugging-face ```sentence-transformers/paraphrase-multilingual-MiniLM-L12-v2``` model \n",
    "\n",
    "Create query and product description 'pairs' -- keeping the label showing how well the query relates to the product.\n",
    "\n",
    "We'll use this prepared data in subsequent steps to train the model and make predictions\n",
    "\n",
    "\n",
    "<br/>\n",
    "\n",
    "<br/>\n",
    "\n",
    "### <font color=teal>Output</font>\n",
    "\n",
    "<font color=purple> Raw data downloaded from hugging face</font>\n",
    "\n",
    "`DATA`\n",
    "└── `raw`\n",
    "    ├── `product_catalogue-v0.3.csv.zip`\n",
    "    └── `train-v0.3.csv.zip`\n",
    "\n",
    "\n",
    "<font color=purple>Data prepared for training</font>\n",
    "\n",
    "`DATA`\n",
    "├── `prep`\n",
    "│   ├── `es`\n",
    "│   │   ├── `es_prod_query_0.parquet`\n",
    "│   │   ├── `es_prod_query_1.parquet`\n",
    "│   │   ├── `es_prod_query_2.parquet`\n",
    "│   │   ├── `es_prod_query_3.parquet`\n",
    "│   │   └── `es_prod_query_4.parquet`\n",
    "│   ├── `jp`\n",
    "│   │   ├── `jp_prod_query_0.parquet`\n",
    "│   │   ├── `jp_prod_query_1.parquet`\n",
    "│   │   ├── `jp_prod_query_2.parquet`\n",
    "│   │   ├── `jp_prod_query_3.parquet`\n",
    "│   │   ├── `jp_prod_query_4.parquet`\n",
    "│   │   └── `jp_prod_query_5.parquet`\n",
    "│   ├── `metadata.json`\n",
    "│   └── `us`\n",
    "│       ├── `us_prod_query_0.parquet`\n",
    "│       ├── `us_prod_query_1.parquet`\n",
    "│       ├── `us_prod_query_2.parquet`\n",
    "│       ├── `us_prod_query_3.parquet`\n",
    "│       ├── `us_prod_query_4.parquet`\n",
    "│       └── `us_prod_query_5.parquet`\n",
    "\n",
    "\n"
   ],
   "metadata": {
    "collapsed": false
   },
   "id": "f5aa44cadd583fa"
  },
  {
   "cell_type": "markdown",
   "source": [
    "---\n",
    "\n",
    "\n",
    "#### <a id=\"top\"></a>\n",
    "\n",
    "<div style=\"background-color: teal; padding: 10px;\">\n",
    "    <h3 style=\"color: white;\">Table of contents</h3>\n",
    "</div>\n",
    "\n",
    "<div style=\"background-color: rgba(60, 121, 245, 0.03); padding:30px; font-size:15px; font-family: consolas;\">\n",
    "<ul>\n",
    "    <li><a href=\"#0\" target=\"_self\" rel=\" noreferrer nofollow\">0. Imports and housekeeping</a></li>\n",
    "    <li><a href=\"#1\" target=\"_self\" rel=\" noreferrer nofollow\">1. AI Crowd Login</a></li>\n",
    "    <li><a href=\"#2\" target=\"_self\" rel=\" noreferrer nofollow\">2. Load and Review the query data</a></li>\n",
    "    <li><a href=\"#2\" target=\"_self\" rel=\" noreferrer nofollow\">3. Load and Review the product data</a></li>\n",
    "    <li><a href=\"#2\" target=\"_self\" rel=\" noreferrer nofollow\">4. Merge the query and product tables</a></li>\n",
    "    <li><a href=\"#2\" target=\"_self\" rel=\" noreferrer nofollow\">5. Prepare the data for our NLP transformer</a></li>\n",
    "    <li><a href=\"#2\" target=\"_self\" rel=\" noreferrer nofollow\">6. Save our prepared data</a></li>\n",
    "</ul>\n",
    "</div>"
   ],
   "metadata": {
    "collapsed": false
   },
   "id": "f96c68d219178d0d"
  },
  {
   "cell_type": "markdown",
   "source": [
    "<a id=\"0\"></a>\n",
    "<div style=\"background-color: teal; padding: 10px;\">\n",
    "    <h3 style=\"color: white;\">Imports and housekeeping</h3>\n",
    "</div>"
   ],
   "metadata": {
    "collapsed": false
   },
   "id": "6c505fb9cd18133d"
  },
  {
   "cell_type": "code",
   "execution_count": 1,
   "outputs": [],
   "source": [
    "# !pip install aicrowd-cli\n",
    "# !pip install transformers datasets"
   ],
   "metadata": {
    "collapsed": false,
    "ExecuteTime": {
     "end_time": "2023-10-04T22:16:19.910879Z",
     "start_time": "2023-10-04T22:16:19.908232Z"
    }
   },
   "id": "580505485f30b2fb"
  },
  {
   "cell_type": "code",
   "execution_count": 2,
   "outputs": [],
   "source": [
    "import numpy as np### math computations\n",
    "import matplotlib.pyplot as plt### plotting bar chart\n",
    "import seaborn as sns### visualizations\n",
    "import datetime\n",
    "import pathlib\n",
    "import io\n",
    "import pandas as pd\n",
    "import os\n",
    "\n",
    "from transformers import AutoTokenizer,create_optimizer\n",
    "\n",
    "# Local\n",
    "from project_secrets.secrets import get_secret\n",
    "from notebooks.jupyter_util import conditional_download\n",
    "from notebooks.jupyter_util import get_file_path\n",
    "\n"
   ],
   "metadata": {
    "collapsed": false,
    "ExecuteTime": {
     "end_time": "2023-10-04T22:16:25.627048Z",
     "start_time": "2023-10-04T22:16:22.147024Z"
    }
   },
   "id": "6c8cfee93c09a978"
  },
  {
   "cell_type": "markdown",
   "source": [
    "<a id=\"1\"></a>\n",
    "<div style=\"background-color: teal; padding: 10px;\">\n",
    "    <h3 style=\"color: white;\">AI Crowd Login</h3>\n",
    "</div>"
   ],
   "metadata": {
    "collapsed": false
   },
   "id": "26bd564843bbc9f7"
  },
  {
   "cell_type": "markdown",
   "source": [
    "Get the AI crown key from 'secrets' source"
   ],
   "metadata": {
    "collapsed": false
   },
   "id": "1b9455105083274e"
  },
  {
   "cell_type": "code",
   "execution_count": 3,
   "outputs": [],
   "source": [
    "api_key = get_secret('api_key')\n",
    "os.environ[\"AICROWD_API_KEY\"] = api_key"
   ],
   "metadata": {
    "collapsed": false,
    "ExecuteTime": {
     "end_time": "2023-10-04T22:16:29.127503Z",
     "start_time": "2023-10-04T22:16:29.111841Z"
    }
   },
   "id": "8bf22c1debeee9a6"
  },
  {
   "cell_type": "markdown",
   "source": [
    "Login"
   ],
   "metadata": {
    "collapsed": false
   },
   "id": "81b89558cd894580"
  },
  {
   "cell_type": "code",
   "execution_count": 4,
   "outputs": [
    {
     "name": "stdout",
     "output_type": "stream",
     "text": [
      "\u001B[32mAPI Key valid\u001B[0m\r\n",
      "\u001B[33mGitlab oauth token invalid or absent.\r\n",
      "It is highly recommended to simply run `aicrowd login` without passing the API Key.\u001B[0m\r\n",
      "\u001B[32mSaved details successfully!\u001B[0m\r\n"
     ]
    }
   ],
   "source": [
    "! aicrowd login "
   ],
   "metadata": {
    "collapsed": false,
    "ExecuteTime": {
     "end_time": "2023-10-04T22:16:35.065982Z",
     "start_time": "2023-10-04T22:16:31.741605Z"
    }
   },
   "id": "6aef0ec9859cb4ea"
  },
  {
   "cell_type": "markdown",
   "source": [
    "Download data from hugging face if we don't already have it"
   ],
   "metadata": {
    "collapsed": false
   },
   "id": "7e9d52a5da4645ca"
  },
  {
   "cell_type": "code",
   "execution_count": 5,
   "outputs": [
    {
     "name": "stdout",
     "output_type": "stream",
     "text": [
      "File exists:  /Users/christopherlomeli/Source/courses/datascience/Springboard/capstone/capstone3/data/raw/train-v0.3.csv.zip\n",
      "File exists:  /Users/christopherlomeli/Source/courses/datascience/Springboard/capstone/capstone3/data/raw/product_catalogue-v0.3.csv.zip\n"
     ]
    }
   ],
   "source": [
    "\n",
    "conditional_download('train-v0.3.csv.zip')\n",
    "conditional_download('product_catalogue-v0.3.csv.zip')"
   ],
   "metadata": {
    "collapsed": false,
    "ExecuteTime": {
     "end_time": "2023-10-04T22:16:38.186250Z",
     "start_time": "2023-10-04T22:16:38.178964Z"
    }
   },
   "id": "597cdbefe60a3cd3"
  },
  {
   "cell_type": "markdown",
   "source": [
    "\n",
    "<a id=\"2\"></a>\n",
    "<div style=\"background-color: teal; padding: 10px;\">\n",
    "    <h3 style=\"color: white;\">Load and Review the query data</h3>\n",
    "</div>\n",
    "\n",
    "\n",
    "\n",
    "The query table contains 781744 rows and 5 columns\n",
    "\n",
    "It contains shopping queries in english, spanish and japanese.  Each query has a product_id that can be linked to a product description.\n",
    "\n",
    "Each query has an esci_lable that tells us how well the query matches the product_id. \n",
    "\n",
    "\n",
    "<br/>\n",
    "\n",
    "|---|---|\n",
    "|exact|The query matches the product_id exactly |\n",
    "|irrelevant|The query does NOT match the product_id at all|\n",
    "|substitute|The product_id would be a reasonable substitute|\n",
    "|complement|The product_id would be a reasonable complement - usrs also purchased ...|\n",
    "\n",
    "\n",
    "\n",
    "\n",
    "\n",
    "There are no missing values\n",
    "\n",
    "There are two categorical columns\n",
    "- esci_label contains the text label we'll use\n",
    "- The query_locale column contains 'us', 'es', and 'jp' locales\n",
    "\n",
    "The ecsi_labels are not perfectly balanced, but we'll see how well the model trains before augmenting\n",
    "\n",
    "There are a few questionable query + product combinations, but only one that has a different label for the same query+product\n",
    "\n",
    "The query_id key is not useable as a key or index\n"
   ],
   "metadata": {
    "collapsed": false
   },
   "id": "10fa9c76165d2dbc"
  },
  {
   "cell_type": "markdown",
   "source": [
    "<font color=teal>Load the query data</font>"
   ],
   "metadata": {
    "collapsed": false
   },
   "id": "4b2e262de3ecffc4"
  },
  {
   "cell_type": "code",
   "execution_count": 6,
   "outputs": [],
   "source": [
    "\n",
    "\n",
    "train_file = get_file_path('raw_data', 'train-v0.3.csv.zip')\n",
    "query_df = pd.read_csv(train_file, compression='zip')"
   ],
   "metadata": {
    "collapsed": false,
    "ExecuteTime": {
     "end_time": "2023-10-04T22:16:44.247882Z",
     "start_time": "2023-10-04T22:16:43.783434Z"
    }
   },
   "id": "21a099c305a741ca"
  },
  {
   "cell_type": "markdown",
   "source": [
    "<font color=teal>what is the shape of the data?</font>"
   ],
   "metadata": {
    "collapsed": false
   },
   "id": "869b78bb32778fe7"
  },
  {
   "cell_type": "code",
   "execution_count": 7,
   "outputs": [
    {
     "data": {
      "text/plain": "(781744, 5)"
     },
     "execution_count": 7,
     "metadata": {},
     "output_type": "execute_result"
    }
   ],
   "source": [
    "query_df.shape"
   ],
   "metadata": {
    "collapsed": false,
    "ExecuteTime": {
     "end_time": "2023-10-04T22:16:46.159475Z",
     "start_time": "2023-10-04T22:16:46.146749Z"
    }
   },
   "id": "c85ee3fafb75ce2"
  },
  {
   "cell_type": "markdown",
   "source": [
    "<font color=teal>What are the data types?</font>"
   ],
   "metadata": {
    "collapsed": false
   },
   "id": "b4173df33ddb5417"
  },
  {
   "cell_type": "code",
   "execution_count": 8,
   "outputs": [
    {
     "data": {
      "text/plain": "query_id         int64\nquery           object\nquery_locale    object\nproduct_id      object\nesci_label      object\ndtype: object"
     },
     "execution_count": 8,
     "metadata": {},
     "output_type": "execute_result"
    }
   ],
   "source": [
    "query_df.dtypes"
   ],
   "metadata": {
    "collapsed": false,
    "ExecuteTime": {
     "end_time": "2023-10-04T22:16:49.060643Z",
     "start_time": "2023-10-04T22:16:49.045386Z"
    }
   },
   "id": "ffb9c6b00cddb184"
  },
  {
   "cell_type": "markdown",
   "source": [
    "<font color=teal>There are no null values</font>"
   ],
   "metadata": {
    "collapsed": false
   },
   "id": "3082da8b994adc3e"
  },
  {
   "cell_type": "code",
   "execution_count": 9,
   "outputs": [
    {
     "data": {
      "text/plain": "query_id        0\nquery           0\nquery_locale    0\nproduct_id      0\nesci_label      0\ndtype: int64"
     },
     "execution_count": 9,
     "metadata": {},
     "output_type": "execute_result"
    }
   ],
   "source": [
    "query_df.isna().sum()"
   ],
   "metadata": {
    "collapsed": false,
    "ExecuteTime": {
     "end_time": "2023-10-04T22:16:52.062832Z",
     "start_time": "2023-10-04T22:16:51.859174Z"
    }
   },
   "id": "da230c1d24702b84"
  },
  {
   "cell_type": "markdown",
   "source": [
    "<font color=teal>Two categorical columns and three continuous columns</font>\n",
    "- the product id is many to one with the query (query_id and query)\n",
    "- there's a mismatch with query_id and query -- should they have the same count?"
   ],
   "metadata": {
    "collapsed": false
   },
   "id": "cb3c389a7203765a"
  },
  {
   "cell_type": "code",
   "execution_count": 10,
   "outputs": [
    {
     "data": {
      "text/plain": "query_id         33804\nquery            33777\nquery_locale         3\nproduct_id      643908\nesci_label           4\ndtype: int64"
     },
     "execution_count": 10,
     "metadata": {},
     "output_type": "execute_result"
    }
   ],
   "source": [
    "query_df.nunique()"
   ],
   "metadata": {
    "collapsed": false,
    "ExecuteTime": {
     "end_time": "2023-10-04T22:16:55.430293Z",
     "start_time": "2023-10-04T22:16:55.256361Z"
    }
   },
   "id": "4fc8d3a644307845"
  },
  {
   "cell_type": "markdown",
   "source": [
    "<font color=teal>The data is a little unbalanced</font>"
   ],
   "metadata": {
    "collapsed": false
   },
   "id": "35374416c365cf57"
  },
  {
   "cell_type": "code",
   "execution_count": 11,
   "outputs": [],
   "source": [
    "df = query_df[[  'query_locale', 'esci_label']].value_counts().sort_index(level='query_locale').unstack()"
   ],
   "metadata": {
    "collapsed": false,
    "ExecuteTime": {
     "end_time": "2023-10-04T22:16:58.811169Z",
     "start_time": "2023-10-04T22:16:58.722607Z"
    }
   },
   "id": "1801a1dcb6ff014c"
  },
  {
   "cell_type": "code",
   "execution_count": 12,
   "outputs": [
    {
     "data": {
      "text/plain": "<Figure size 1000x600 with 1 Axes>",
      "image/png": "[encoded data removed]"
     },
     "metadata": {},
     "output_type": "display_data"
    }
   ],
   "source": [
    "# Define custom colors for each esci_label\n",
    "custom_colors = {\n",
    "    'complement': 'blue',\n",
    "    'exact': 'gray',\n",
    "    'irrelevant': 'orange',\n",
    "    'substitute': 'red'\n",
    "}\n",
    "\n",
    "# Plot a stacked bar chart with custom colors\n",
    "ax = df.plot(kind='bar', stacked=True, figsize=(10, 6), color=[custom_colors.get(col, 'gray') for col in df.columns])\n",
    "\n",
    "# Customize the chart\n",
    "plt.title('Distribution of esci_label by query_locale')\n",
    "plt.xlabel('query_locale')\n",
    "plt.ylabel('Count')\n",
    "plt.legend(title='esci_label')\n",
    "\n",
    "# Show the chart\n",
    "plt.show()"
   ],
   "metadata": {
    "collapsed": false,
    "ExecuteTime": {
     "end_time": "2023-10-04T22:17:02.125143Z",
     "start_time": "2023-10-04T22:17:01.812399Z"
    }
   },
   "id": "7e965abf40841498"
  },
  {
   "cell_type": "markdown",
   "source": [
    "<font color=teal>There are minor errors in the query + product_id combinations</font>\n",
    "\n",
    "\n",
    "- There are 12 duplicate query + product combinations -- this is ok\n",
    "- There is one case where the query and product_id are the same, but the label is different between spanish and english [see below]   -- this might be valid, and it's only one record, but I think we may want to train separately for different locales if they do have different logic"
   ],
   "metadata": {
    "collapsed": false
   },
   "id": "bbf92f336886f1ef"
  },
  {
   "cell_type": "markdown",
   "source": [],
   "metadata": {
    "collapsed": false
   },
   "id": "bf63c2b0b2c0525a"
  },
  {
   "cell_type": "markdown",
   "source": [
    "There are 12 duplicate query + product combinations – this is ok"
   ],
   "metadata": {
    "collapsed": false
   },
   "id": "feb8c703b6b1d35"
  },
  {
   "cell_type": "code",
   "execution_count": 13,
   "outputs": [
    {
     "data": {
      "text/plain": "                query  product_id\n69257   chanca piedra  B071KR997R\n644658  chanca piedra  B071KR997R\n123141   gopro hero 8  B07XP44MTV\n437718   gopro hero 8  B07XP44MTV\n253021       stranger  0679720200\n582824       stranger  0679720200\n293813    wyze cam v2  B0763358FV\n293815    wyze cam v2  B07DGR98VQ\n460911    wyze cam v2  B0763358FV\n460913    wyze cam v2  B07DGR98VQ\n460962          x100f  B074HH8P55\n585093          x100f  B074HH8P55",
      "text/html": "<div>\n<style scoped>\n    .dataframe tbody tr th:only-of-type {\n        vertical-align: middle;\n    }\n\n    .dataframe tbody tr th {\n        vertical-align: top;\n    }\n\n    .dataframe thead th {\n        text-align: right;\n    }\n</style>\n<table border=\"1\" class=\"dataframe\">\n  <thead>\n    <tr style=\"text-align: right;\">\n      <th></th>\n      <th>query</th>\n      <th>product_id</th>\n    </tr>\n  </thead>\n  <tbody>\n    <tr>\n      <th>69257</th>\n      <td>chanca piedra</td>\n      <td>B071KR997R</td>\n    </tr>\n    <tr>\n      <th>644658</th>\n      <td>chanca piedra</td>\n      <td>B071KR997R</td>\n    </tr>\n    <tr>\n      <th>123141</th>\n      <td>gopro hero 8</td>\n      <td>B07XP44MTV</td>\n    </tr>\n    <tr>\n      <th>437718</th>\n      <td>gopro hero 8</td>\n      <td>B07XP44MTV</td>\n    </tr>\n    <tr>\n      <th>253021</th>\n      <td>stranger</td>\n      <td>0679720200</td>\n    </tr>\n    <tr>\n      <th>582824</th>\n      <td>stranger</td>\n      <td>0679720200</td>\n    </tr>\n    <tr>\n      <th>293813</th>\n      <td>wyze cam v2</td>\n      <td>B0763358FV</td>\n    </tr>\n    <tr>\n      <th>293815</th>\n      <td>wyze cam v2</td>\n      <td>B07DGR98VQ</td>\n    </tr>\n    <tr>\n      <th>460911</th>\n      <td>wyze cam v2</td>\n      <td>B0763358FV</td>\n    </tr>\n    <tr>\n      <th>460913</th>\n      <td>wyze cam v2</td>\n      <td>B07DGR98VQ</td>\n    </tr>\n    <tr>\n      <th>460962</th>\n      <td>x100f</td>\n      <td>B074HH8P55</td>\n    </tr>\n    <tr>\n      <th>585093</th>\n      <td>x100f</td>\n      <td>B074HH8P55</td>\n    </tr>\n  </tbody>\n</table>\n</div>"
     },
     "execution_count": 13,
     "metadata": {},
     "output_type": "execute_result"
    }
   ],
   "source": [
    "# get just the query + product combinations\n",
    "query_product_combinations =  query_df[['query', 'product_id']]\n",
    "\n",
    "# find out if there are any duplicate combinations\n",
    "duplicate_rows = query_product_combinations[query_product_combinations.duplicated(keep=False)]\n",
    "duplicate_rows.sort_values(by='query')\n"
   ],
   "metadata": {
    "collapsed": false,
    "ExecuteTime": {
     "end_time": "2023-10-04T22:17:07.605222Z",
     "start_time": "2023-10-04T22:17:07.449767Z"
    }
   },
   "id": "cc8770d65b610132"
  },
  {
   "cell_type": "markdown",
   "source": [
    "<font color=teal>manually inspection of the duplicates shows at least one inconsistency</font>"
   ],
   "metadata": {
    "collapsed": false
   },
   "id": "86cdcdcaa00914cf"
  },
  {
   "cell_type": "code",
   "execution_count": 14,
   "outputs": [
    {
     "data": {
      "text/plain": "        query_id         query query_locale  product_id  esci_label\n123141      5107  gopro hero 8           us  B07XP44MTV       exact\n437718     19664  gopro hero 8           es  B07XP44MTV  complement",
      "text/html": "<div>\n<style scoped>\n    .dataframe tbody tr th:only-of-type {\n        vertical-align: middle;\n    }\n\n    .dataframe tbody tr th {\n        vertical-align: top;\n    }\n\n    .dataframe thead th {\n        text-align: right;\n    }\n</style>\n<table border=\"1\" class=\"dataframe\">\n  <thead>\n    <tr style=\"text-align: right;\">\n      <th></th>\n      <th>query_id</th>\n      <th>query</th>\n      <th>query_locale</th>\n      <th>product_id</th>\n      <th>esci_label</th>\n    </tr>\n  </thead>\n  <tbody>\n    <tr>\n      <th>123141</th>\n      <td>5107</td>\n      <td>gopro hero 8</td>\n      <td>us</td>\n      <td>B07XP44MTV</td>\n      <td>exact</td>\n    </tr>\n    <tr>\n      <th>437718</th>\n      <td>19664</td>\n      <td>gopro hero 8</td>\n      <td>es</td>\n      <td>B07XP44MTV</td>\n      <td>complement</td>\n    </tr>\n  </tbody>\n</table>\n</div>"
     },
     "execution_count": 14,
     "metadata": {},
     "output_type": "execute_result"
    }
   ],
   "source": [
    "query_df.loc[(query_df['query'] == 'gopro hero 8') & (query_df['product_id'] == 'B07XP44MTV')]"
   ],
   "metadata": {
    "collapsed": false,
    "ExecuteTime": {
     "end_time": "2023-10-04T22:17:11.415157Z",
     "start_time": "2023-10-04T22:17:11.409320Z"
    }
   },
   "id": "9e73db1acd0fadc2"
  },
  {
   "cell_type": "markdown",
   "source": [
    "<font color=teal>find how many query + product_id combinations have differing labels</font>\n",
    "- ok, so there's only one"
   ],
   "metadata": {
    "collapsed": false
   },
   "id": "fef9ad2d9a5a748b"
  },
  {
   "cell_type": "code",
   "execution_count": 15,
   "outputs": [
    {
     "data": {
      "text/plain": "query         product_id\ngopro hero 8  B07XP44MTV    2\nName: esci_label, dtype: int64"
     },
     "execution_count": 15,
     "metadata": {},
     "output_type": "execute_result"
    }
   ],
   "source": [
    "\n",
    "# Group by 'query' and 'product_id' and count the number of unique labels\n",
    "unique_labels_count = query_df.groupby(['query', 'product_id'])['esci_label'].nunique()\n",
    "\n",
    "# Find the combinations with more than one unique label\n",
    "differing_labels = unique_labels_count[unique_labels_count > 1]\n",
    "\n",
    "# Display the combinations with differing labels\n",
    "differing_labels"
   ],
   "metadata": {
    "collapsed": false,
    "ExecuteTime": {
     "end_time": "2023-10-04T22:17:15.463435Z",
     "start_time": "2023-10-04T22:17:14.770928Z"
    }
   },
   "id": "abc267088f3953ed"
  },
  {
   "cell_type": "markdown",
   "source": [
    "<font color=teal>The query_id is not consistent</font>\n",
    "- the same query_id can refer to different query values"
   ],
   "metadata": {
    "collapsed": false
   },
   "id": "d1becc3ce0ad3034"
  },
  {
   "cell_type": "code",
   "execution_count": 16,
   "outputs": [
    {
     "data": {
      "text/plain": "        query_id                                              query\n0              0                          # 2 pencils not sharpened\n16             1                          # 2 pencils not sharpened\n40             1                                         # mom life\n55             2                                         # mom life\n56             2  #1 best and not expensive bath back brush crea...\n...          ...                                                ...\n781687     33800                                      財布 小銭入れなし メンズ\n781703     33801                                      財布 小銭入れなし メンズ\n781704     33801                                           針なしほっちきす\n781719     33802                                           針なしほっちきす\n781728     33803                                           針なしほっちきす\n\n[57889 rows x 2 columns]",
      "text/html": "<div>\n<style scoped>\n    .dataframe tbody tr th:only-of-type {\n        vertical-align: middle;\n    }\n\n    .dataframe tbody tr th {\n        vertical-align: top;\n    }\n\n    .dataframe thead th {\n        text-align: right;\n    }\n</style>\n<table border=\"1\" class=\"dataframe\">\n  <thead>\n    <tr style=\"text-align: right;\">\n      <th></th>\n      <th>query_id</th>\n      <th>query</th>\n    </tr>\n  </thead>\n  <tbody>\n    <tr>\n      <th>0</th>\n      <td>0</td>\n      <td># 2 pencils not sharpened</td>\n    </tr>\n    <tr>\n      <th>16</th>\n      <td>1</td>\n      <td># 2 pencils not sharpened</td>\n    </tr>\n    <tr>\n      <th>40</th>\n      <td>1</td>\n      <td># mom life</td>\n    </tr>\n    <tr>\n      <th>55</th>\n      <td>2</td>\n      <td># mom life</td>\n    </tr>\n    <tr>\n      <th>56</th>\n      <td>2</td>\n      <td>#1 best and not expensive bath back brush crea...</td>\n    </tr>\n    <tr>\n      <th>...</th>\n      <td>...</td>\n      <td>...</td>\n    </tr>\n    <tr>\n      <th>781687</th>\n      <td>33800</td>\n      <td>財布 小銭入れなし メンズ</td>\n    </tr>\n    <tr>\n      <th>781703</th>\n      <td>33801</td>\n      <td>財布 小銭入れなし メンズ</td>\n    </tr>\n    <tr>\n      <th>781704</th>\n      <td>33801</td>\n      <td>針なしほっちきす</td>\n    </tr>\n    <tr>\n      <th>781719</th>\n      <td>33802</td>\n      <td>針なしほっちきす</td>\n    </tr>\n    <tr>\n      <th>781728</th>\n      <td>33803</td>\n      <td>針なしほっちきす</td>\n    </tr>\n  </tbody>\n</table>\n<p>57889 rows × 2 columns</p>\n</div>"
     },
     "execution_count": 16,
     "metadata": {},
     "output_type": "execute_result"
    }
   ],
   "source": [
    "query_combinations =  query_df[['query_id', 'query']].drop_duplicates()\n",
    "\n",
    "duplicate_query_values = query_combinations.groupby('query')['query_id'].transform('nunique') > 1\n",
    "result = query_combinations[duplicate_query_values].sort_index(level='query_id')\n",
    "result"
   ],
   "metadata": {
    "collapsed": false,
    "ExecuteTime": {
     "end_time": "2023-10-04T22:17:19.138331Z",
     "start_time": "2023-10-04T22:17:19.042500Z"
    }
   },
   "id": "db763531d9851b61"
  },
  {
   "cell_type": "markdown",
   "source": [
    "\n",
    "<a id=\"3\"></a>\n",
    "<div style=\"background-color: teal; padding: 10px;\">\n",
    "    <h3 style=\"color: white;\">Load and Review the products data</h3>\n",
    "</div>\n",
    "\n",
    "\n",
    "This table has more information about each product.  It has title and descriptions, and a product_id that we want to use to merge with the queries table\n",
    "\n",
    "We will only use the product_title \n",
    "\n",
    "Our ultimate goal is to predict the right product based on the customer query.   \n",
    "\n",
    "We'll use this data to train the model to use the customers query to point to the right products.\n",
    "\n",
    "We'll do that by training the model using the query text + the related product title text, and we already have a label that tells us how well the query relates to the product.\n",
    "\n",
    "We are only using the product_title in this application, so lets just make sure that we can merge to the queries"
   ],
   "metadata": {
    "collapsed": false
   },
   "id": "2ab36e92e33a2a90"
  },
  {
   "cell_type": "markdown",
   "source": [
    "<font color=teal> Load the products table</font>"
   ],
   "metadata": {
    "collapsed": false
   },
   "id": "e7fcbae3cf24ca41"
  },
  {
   "cell_type": "code",
   "execution_count": 17,
   "outputs": [],
   "source": [
    "product_file = get_file_path('raw_data', 'product_catalogue-v0.3.csv.zip')\n",
    "product_df = pd.read_csv(product_file, compression='zip')"
   ],
   "metadata": {
    "collapsed": false,
    "ExecuteTime": {
     "end_time": "2023-10-04T22:17:38.527620Z",
     "start_time": "2023-10-04T22:17:25.183609Z"
    }
   },
   "id": "12293af9e3f6066f"
  },
  {
   "cell_type": "code",
   "execution_count": 18,
   "outputs": [
    {
     "data": {
      "text/plain": "(883868, 7)"
     },
     "execution_count": 18,
     "metadata": {},
     "output_type": "execute_result"
    }
   ],
   "source": [
    "product_df.shape"
   ],
   "metadata": {
    "collapsed": false,
    "ExecuteTime": {
     "end_time": "2023-10-04T22:17:43.259058Z",
     "start_time": "2023-10-04T22:17:43.239609Z"
    }
   },
   "id": "d1df224905940357"
  },
  {
   "cell_type": "markdown",
   "source": [
    "<font color=teal>There are many null product cells, but we are only using \n",
    "\n",
    "- The product_id that we'll use to join the queries\n",
    "- The product_title which has a few nulls that we can impute later when we merge"
   ],
   "metadata": {
    "collapsed": false
   },
   "id": "a2382eec22bba85"
  },
  {
   "cell_type": "code",
   "execution_count": 19,
   "outputs": [
    {
     "data": {
      "text/plain": "product_id                   0\nproduct_title              149\nproduct_description     437158\nproduct_bullet_point    144672\nproduct_brand            75941\nproduct_color_name      350208\nproduct_locale               0\ndtype: int64"
     },
     "execution_count": 19,
     "metadata": {},
     "output_type": "execute_result"
    }
   ],
   "source": [
    "product_df.isna().sum()"
   ],
   "metadata": {
    "collapsed": false,
    "ExecuteTime": {
     "end_time": "2023-10-04T22:17:46.539422Z",
     "start_time": "2023-10-04T22:17:46.102762Z"
    }
   },
   "id": "a8c7875429417538"
  },
  {
   "cell_type": "markdown",
   "source": [
    "<a id=\"4\"></a>\n",
    "<div style=\"background-color: teal; padding: 10px;\">\n",
    "    <h3 style=\"color: white;\">Merge the query and product tables</h3>\n",
    "</div>"
   ],
   "metadata": {
    "collapsed": false
   },
   "id": "d53552b5de89c50e"
  },
  {
   "cell_type": "code",
   "execution_count": 20,
   "outputs": [],
   "source": [
    "trial_merge = pd.merge(query_df, product_df, on='product_id', how='outer', indicator=True)"
   ],
   "metadata": {
    "collapsed": false,
    "ExecuteTime": {
     "end_time": "2023-10-04T22:17:53.323876Z",
     "start_time": "2023-10-04T22:17:52.474008Z"
    }
   },
   "id": "432cff65ed4f9aee"
  },
  {
   "cell_type": "markdown",
   "source": [
    "<font color=teal>The data joins well</font>\n",
    "\n",
    "There are many products that have no customer queries (right-only) - and that's fine\n",
    "\n",
    "But there are no queries that do not link to valid products (left-only) , so we can just inner join queries to products"
   ],
   "metadata": {
    "collapsed": false
   },
   "id": "7bbb92c6b98e5750"
  },
  {
   "cell_type": "code",
   "execution_count": 21,
   "outputs": [
    {
     "data": {
      "text/plain": "both          793378\nright_only    235625\nleft_only          0\nName: _merge, dtype: int64"
     },
     "execution_count": 21,
     "metadata": {},
     "output_type": "execute_result"
    }
   ],
   "source": [
    "trial_merge['_merge'].value_counts()"
   ],
   "metadata": {
    "collapsed": false,
    "ExecuteTime": {
     "end_time": "2023-10-04T22:17:55.527802Z",
     "start_time": "2023-10-04T22:17:55.511203Z"
    }
   },
   "id": "577efa4a7b3ec131"
  },
  {
   "cell_type": "markdown",
   "source": [
    "<font color=teal>Perform the inner join from query to product</font>"
   ],
   "metadata": {
    "collapsed": false
   },
   "id": "bfbba1309a1e139"
  },
  {
   "cell_type": "code",
   "execution_count": 22,
   "outputs": [],
   "source": [
    "df = pd.merge(query_df, product_df, on='product_id', how='inner')\n"
   ],
   "metadata": {
    "collapsed": false,
    "ExecuteTime": {
     "end_time": "2023-10-04T22:18:01.200117Z",
     "start_time": "2023-10-04T22:18:00.660185Z"
    }
   },
   "id": "99820cf244969c92"
  },
  {
   "cell_type": "markdown",
   "source": [
    "<font color=teal>Filter just the columns we need</font>"
   ],
   "metadata": {
    "collapsed": false
   },
   "id": "f46efd9a44856626"
  },
  {
   "cell_type": "code",
   "execution_count": 23,
   "outputs": [],
   "source": [
    "df = df[['query', 'product_title', 'esci_label', 'query_locale']]"
   ],
   "metadata": {
    "collapsed": false,
    "ExecuteTime": {
     "end_time": "2023-10-04T22:18:04.707765Z",
     "start_time": "2023-10-04T22:18:04.654410Z"
    }
   },
   "id": "5e2e4facd6b2eae9"
  },
  {
   "cell_type": "markdown",
   "source": [
    "<font color=teal>Encode the text label column</font>"
   ],
   "metadata": {
    "collapsed": false
   },
   "id": "b6dcfdd4817c1a81"
  },
  {
   "cell_type": "code",
   "execution_count": 24,
   "outputs": [],
   "source": [
    "\n",
    "df['label'] = np.where(df['esci_label'] == 'exact', 1.0,\n",
    "             np.where(df['esci_label'] == 'substitute', 0.6,\n",
    "             np.where(df['esci_label'] == 'complement', 0.3, 0.0)))"
   ],
   "metadata": {
    "collapsed": false,
    "ExecuteTime": {
     "end_time": "2023-10-04T22:18:07.629768Z",
     "start_time": "2023-10-04T22:18:07.623956Z"
    }
   },
   "id": "f7b9a08f851ff76"
  },
  {
   "cell_type": "code",
   "execution_count": 25,
   "outputs": [
    {
     "data": {
      "text/plain": "    label  esci_label\n0     1.0       exact\n2     0.6  substitute\n4     0.0  irrelevant\n14    0.3  complement",
      "text/html": "<div>\n<style scoped>\n    .dataframe tbody tr th:only-of-type {\n        vertical-align: middle;\n    }\n\n    .dataframe tbody tr th {\n        vertical-align: top;\n    }\n\n    .dataframe thead th {\n        text-align: right;\n    }\n</style>\n<table border=\"1\" class=\"dataframe\">\n  <thead>\n    <tr style=\"text-align: right;\">\n      <th></th>\n      <th>label</th>\n      <th>esci_label</th>\n    </tr>\n  </thead>\n  <tbody>\n    <tr>\n      <th>0</th>\n      <td>1.0</td>\n      <td>exact</td>\n    </tr>\n    <tr>\n      <th>2</th>\n      <td>0.6</td>\n      <td>substitute</td>\n    </tr>\n    <tr>\n      <th>4</th>\n      <td>0.0</td>\n      <td>irrelevant</td>\n    </tr>\n    <tr>\n      <th>14</th>\n      <td>0.3</td>\n      <td>complement</td>\n    </tr>\n  </tbody>\n</table>\n</div>"
     },
     "execution_count": 25,
     "metadata": {},
     "output_type": "execute_result"
    }
   ],
   "source": [
    "df[['label', 'esci_label']].drop_duplicates()"
   ],
   "metadata": {
    "collapsed": false,
    "ExecuteTime": {
     "end_time": "2023-10-04T22:18:09.472886Z",
     "start_time": "2023-10-04T22:18:09.406706Z"
    }
   },
   "id": "6f3ce3c53053ed97"
  },
  {
   "cell_type": "markdown",
   "source": [
    "<font color=teal>Drop and rename columns</font>"
   ],
   "metadata": {
    "collapsed": false
   },
   "id": "90b92e7058dd75dc"
  },
  {
   "cell_type": "code",
   "execution_count": 26,
   "outputs": [],
   "source": [
    "# get rid of the text esci_label - we replaced it with label\n",
    "df.drop(columns=['esci_label'], inplace=True)\n",
    "\n",
    "# rename product_title to just product\n",
    "df.rename(columns={\n",
    "    'product_title': 'product'\n",
    "},  inplace=True)\n",
    "\n"
   ],
   "metadata": {
    "collapsed": false,
    "ExecuteTime": {
     "end_time": "2023-10-04T22:18:12.336158Z",
     "start_time": "2023-10-04T22:18:12.272246Z"
    }
   },
   "id": "d615ac62041890b9"
  },
  {
   "cell_type": "markdown",
   "source": [
    "<font color=teal>Impute the 149 missing product titles</font>"
   ],
   "metadata": {
    "collapsed": false
   },
   "id": "bffb12fdf276cb50"
  },
  {
   "cell_type": "code",
   "execution_count": 27,
   "outputs": [
    {
     "data": {
      "text/plain": "query           0\nproduct         0\nquery_locale    0\nlabel           0\ndtype: int64"
     },
     "execution_count": 27,
     "metadata": {},
     "output_type": "execute_result"
    }
   ],
   "source": [
    "# impute the 149 missing product titles to be the same as the query - there are not too many of these, but they are all false positives, so maybe we should just drop them???\n",
    "# df['product'].dropna().fillna(df['query'], inplace=True)\n",
    "\n",
    "df = df.dropna(subset=['product'])\n",
    "\n",
    "df.isna().sum()"
   ],
   "metadata": {
    "collapsed": false,
    "ExecuteTime": {
     "end_time": "2023-10-04T22:18:16.094952Z",
     "start_time": "2023-10-04T22:18:15.811979Z"
    }
   },
   "id": "737796f74e583a7b"
  },
  {
   "cell_type": "markdown",
   "source": [
    "<a id=\"5\"></a>\n",
    "<div style=\"background-color: teal; padding: 10px;\">\n",
    "    <h3 style=\"color: white;\">Prepare the data for our NLP transformer</h3>\n",
    "</div>\n",
    "\n",
    "\n",
    "Use the hugging-face ```sentence-transformers/paraphrase-multilingual-MiniLM-L12-v2 model```\n",
    "\n",
    "Get the tokenizer and encode our query and product columns \n",
    "\n"
   ],
   "metadata": {
    "collapsed": false
   },
   "id": "c627750567f7cb0c"
  },
  {
   "cell_type": "code",
   "execution_count": 28,
   "outputs": [],
   "source": [
    "BATCH_SIZE=128\n",
    "MAX_LENGTH=64\n",
    "os.environ[\"TOKENIZERS_PARALLELISM\"] = \"false\""
   ],
   "metadata": {
    "collapsed": false,
    "ExecuteTime": {
     "end_time": "2023-10-04T22:18:20.946567Z",
     "start_time": "2023-10-04T22:18:20.938525Z"
    }
   },
   "id": "e3be7b136607dffd"
  },
  {
   "cell_type": "code",
   "execution_count": 29,
   "outputs": [],
   "source": [
    "model_id=\"sentence-transformers/paraphrase-multilingual-MiniLM-L12-v2\"\n",
    "tokenizer = AutoTokenizer.from_pretrained(model_id)"
   ],
   "metadata": {
    "collapsed": false,
    "ExecuteTime": {
     "end_time": "2023-10-04T22:18:24.059383Z",
     "start_time": "2023-10-04T22:18:22.762271Z"
    }
   },
   "id": "22e5b3e51eb0f980"
  },
  {
   "cell_type": "code",
   "execution_count": 30,
   "outputs": [],
   "source": [
    "# Load the Parquet file into a pandas DataFrame\n",
    "\n",
    "# Tokenize 'query' and 'product' columns using the BERT tokenizer\n",
    "tokenized_query = tokenizer(df['query'].tolist(), max_length=MAX_LENGTH, padding='max_length', truncation=True)\n",
    "tokenized_product = tokenizer(df['product'].tolist(), max_length=MAX_LENGTH, padding='max_length', truncation=True)\n",
    "\n",
    "# Add tokenized outputs to the DataFrame\n",
    "df['input_ids_query'] = tokenized_query['input_ids']\n",
    "df['token_type_ids_query'] = tokenized_query['token_type_ids']\n",
    "df['attention_mask_query'] = tokenized_query['attention_mask']\n",
    "df['input_ids_product'] = tokenized_product['input_ids']\n",
    "df['token_type_ids_product'] = tokenized_product['token_type_ids']\n",
    "df['attention_mask_product'] = tokenized_product['attention_mask']\n"
   ],
   "metadata": {
    "collapsed": false,
    "ExecuteTime": {
     "end_time": "2023-10-04T22:20:36.947271Z",
     "start_time": "2023-10-04T22:18:25.560394Z"
    }
   },
   "id": "df42ff294f58bb3b"
  },
  {
   "cell_type": "code",
   "execution_count": 31,
   "outputs": [
    {
     "data": {
      "text/plain": "query                      object\nproduct                    object\nquery_locale               object\nlabel                     float64\ninput_ids_query            object\ntoken_type_ids_query       object\nattention_mask_query       object\ninput_ids_product          object\ntoken_type_ids_product     object\nattention_mask_product     object\ndtype: object"
     },
     "execution_count": 31,
     "metadata": {},
     "output_type": "execute_result"
    }
   ],
   "source": [
    "df.dtypes"
   ],
   "metadata": {
    "collapsed": false,
    "ExecuteTime": {
     "end_time": "2023-10-04T22:21:02.106165Z",
     "start_time": "2023-10-04T22:21:02.084336Z"
    }
   },
   "id": "54ee42f8cb32f74d"
  },
  {
   "cell_type": "markdown",
   "source": [
    "<a id=\"6\"></a>\n",
    "<div style=\"background-color: teal; padding: 10px;\">\n",
    "    <h3 style=\"color: white;\">Save our prepared data</h3>\n",
    "</div>\n",
    "\n",
    "\n",
    "Save locales separately\n",
    "\n",
    "Break the data into chunks\n",
    "\n",
    "Save the meta-data \n",
    "\n",
    "\n",
    "<font color=teal>data directory</font>\n",
    ".\n",
    "├── prep\n",
    "│   ├── es\n",
    "│   │   ├── es_prod_query_0.parquet\n",
    "│   │   ├── es_prod_query_1.parquet\n",
    "│   │   ├── es_prod_query_2.parquet\n",
    "│   │   ├── es_prod_query_3.parquet\n",
    "│   │   └── es_prod_query_4.parquet\n",
    "│   ├── jp\n",
    "│   │   ├── jp_prod_query_0.parquet\n",
    "│   │   ├── jp_prod_query_1.parquet\n",
    "│   │   ├── jp_prod_query_2.parquet\n",
    "│   │   ├── jp_prod_query_3.parquet\n",
    "│   │   ├── jp_prod_query_4.parquet\n",
    "│   │   └── jp_prod_query_5.parquet\n",
    "│   └── us\n",
    "│       ├── us_prod_query_0.parquet\n",
    "│       ├── us_prod_query_1.parquet\n",
    "│       ├── us_prod_query_2.parquet\n",
    "│       ├── us_prod_query_3.parquet\n",
    "│       ├── us_prod_query_4.parquet\n",
    "│       └── us_prod_query_5.parquet\n",
    "│   ├── <font color=yellow>metadata.json</font>\n",
    "\n"
   ],
   "metadata": {
    "collapsed": false
   },
   "id": "39fb1e2275b1b197"
  },
  {
   "cell_type": "code",
   "execution_count": 32,
   "outputs": [],
   "source": [
    "from typing import List\n",
    "from notebooks.config import get_directory\n",
    "\n",
    "def write_chunks(input_df: pd.DataFrame, locale) -> List[str]:\n",
    "    print(\"writing files for locale \", locale )\n",
    "    files = []\n",
    "    stage_dir = os.path.join(get_directory('prep_data'), locale)\n",
    "    if not os.path.exists(stage_dir):\n",
    "        os.makedirs(stage_dir)\n",
    "\n",
    "    df_locale = input_df.loc[input_df.query_locale==locale].drop(columns=['query_locale'])\n",
    "    # df_locale.drop(columns=['query_locale'], inplace=True)\n",
    "    \n",
    "    # Define the number of chunks you want\n",
    "    num_chunks = 5  # Adjust this number as needed\n",
    "    \n",
    "    # Calculate the chunk size\n",
    "    chunk_size = len(df_locale) // num_chunks\n",
    "    \n",
    "    # Split the DataFrame into smaller chunks\n",
    "    chunks = [df_locale[i:i + chunk_size] for i in range(0, len(df_locale), chunk_size)]\n",
    "    \n",
    "    # Save each chunk as a separate Parquet file\n",
    "    for i, chunk in enumerate(chunks):\n",
    "        file_name = os.path.join(stage_dir, f'{locale}_prod_query_{i}.parquet')\n",
    "        # print(\"\\t\", file_name)\n",
    "        files.append(file_name)\n",
    "        chunk.to_parquet(file_name)\n",
    "    return files\n"
   ],
   "metadata": {
    "collapsed": false,
    "ExecuteTime": {
     "end_time": "2023-10-04T22:21:21.679720Z",
     "start_time": "2023-10-04T22:21:21.667455Z"
    }
   },
   "id": "8484621da49cb945"
  },
  {
   "cell_type": "code",
   "execution_count": 33,
   "outputs": [
    {
     "name": "stdout",
     "output_type": "stream",
     "text": [
      "writing files for locale  us\n",
      "writing files for locale  jp\n",
      "writing files for locale  es\n"
     ]
    }
   ],
   "source": [
    "us_files = write_chunks(df, 'us')\n",
    "jp_files = write_chunks(df, 'jp')\n",
    "es_files = write_chunks(df, 'es')"
   ],
   "metadata": {
    "collapsed": false,
    "ExecuteTime": {
     "end_time": "2023-10-04T22:21:52.282919Z",
     "start_time": "2023-10-04T22:21:37.732499Z"
    }
   },
   "id": "8fa0e339903e748b"
  },
  {
   "cell_type": "markdown",
   "source": [
    "<font color=teal>Save the file names as meta-data so we can use them later</font>"
   ],
   "metadata": {
    "collapsed": false
   },
   "id": "5a31ea5bdd88d554"
  },
  {
   "cell_type": "code",
   "execution_count": 34,
   "outputs": [],
   "source": [
    "import json\n",
    "\n",
    "meta_file = os.path.join(get_directory('prep_data'), 'metadata.json')\n",
    "\n",
    "meta_data = {\n",
    "    'us': us_files,\n",
    "    'jp': jp_files,\n",
    "    'es': es_files\n",
    "}\n",
    "\n",
    "with open(meta_file, 'w') as fp:\n",
    "    json.dump(meta_data, fp)\n"
   ],
   "metadata": {
    "collapsed": false,
    "ExecuteTime": {
     "end_time": "2023-10-04T22:22:24.330358Z",
     "start_time": "2023-10-04T22:22:24.281841Z"
    }
   },
   "id": "f2e9bf87692d1e18"
  },
  {
   "cell_type": "code",
   "execution_count": null,
   "outputs": [],
   "source": [],
   "metadata": {
    "collapsed": false
   },
   "id": "47c7ef12e8d32d6a"
  }
 ],
 "metadata": {
  "kernelspec": {
   "display_name": "Python 3",
   "language": "python",
   "name": "python3"
  },
  "language_info": {
   "codemirror_mode": {
    "name": "ipython",
    "version": 2
   },
   "file_extension": ".py",
   "mimetype": "text/x-python",
   "name": "python",
   "nbconvert_exporter": "python",
   "pygments_lexer": "ipython2",
   "version": "2.7.6"
  }
 },
 "nbformat": 4,
 "nbformat_minor": 5
}
