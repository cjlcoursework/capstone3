{
 "cells": [
  {
   "cell_type": "markdown",
   "source": [
    "<br/>\n",
    "\n",
    "# <font color=teal>Ecommerce Shopping Project</font>\n",
    "\n",
    "This project is based on the Amazon KDD Cup 2023 challenge to classify customer shopping queries as related or not related to product descriptions\n",
    "\n",
    "find the challenge [Here](https://www.aicrowd.com/challenges/amazon-kdd-cup-23-multilingual-recommendation-challenge)\n",
    "\n",
    "\n",
    "<br/>\n",
    "\n",
    "<br/>\n",
    "\n",
    "\n",
    "---\n",
    "\n",
    "<br/>\n",
    "\n",
    "\n",
    "<br/>\n",
    "\n",
    "\n",
    "### <font color=orange>Goal</font>\n",
    "\n",
    "<br/>\n",
    "\n",
    "\n",
    "TBD\n",
    "\n",
    "<br/>\n",
    "\n",
    "<br/>\n",
    "\n",
    "\n",
    "### <font color=orange>Input</font>\n",
    "\n",
    "<font color=purple>Local tokenized data </font>\n",
    "\n",
    "Data nlp directory\n",
    "\n",
    "- <font color=purple>dataset_info.json</font>\n",
    "\n",
    "- <font color=purple>state.json</font>\n",
    "\n",
    "\n",
    "- <font color=purple>train</font>\n",
    "    \n",
    "    - `data-00000-of-000003.arrow`\n",
    "    - `data-00001-of-000003.arrow`\n",
    "    - `data-00002-of-000003.arrow`\n",
    "\n",
    "<br/>\n",
    "\n",
    "\n",
    "<br/>\n",
    "\n",
    "\n",
    "### <font color=orange>Approach</font>\n",
    "\n",
    "TBD\n",
    "\n",
    "<br/>\n",
    "\n",
    "<br/>\n",
    "\n",
    "### <font color=orange>Output</font>\n",
    "\n",
    "TBD\n",
    "\n"
   ],
   "metadata": {
    "collapsed": false,
    "id": "0gfd5CJZ_yDc"
   }
  },
  {
   "cell_type": "markdown",
   "source": [],
   "metadata": {
    "collapsed": false,
    "id": "4251yPUu_yDe"
   }
  },
  {
   "cell_type": "markdown",
   "source": [
    "---\n",
    "\n",
    "\n",
    "#### <a id=\"top\"></a>\n",
    "\n",
    "<div style=\"background-color: teal; padding: 10px;\">\n",
    "    <h3 style=\"color: white;\">Table of contents</h3>\n",
    "</div>\n",
    "\n",
    "<div style=\"background-color: rgba(60, 121, 245, 0.03); padding:30px; font-size:15px; font-family: consolas;\">\n",
    "<ul>\n",
    "    <li><a href=\"#0\" target=\"_self\" rel=\" noreferrer nofollow\">0. Imports and housekeeping</a></li>\n",
    "    <li><a href=\"#1\" target=\"_self\" rel=\" noreferrer nofollow\">1. AI Crowd Login</a></li>\n",
    "    <li><a href=\"#2\" target=\"_self\" rel=\" noreferrer nofollow\">2. Read untokenized data</a></li>\n",
    "    <li><a href=\"#2\" target=\"_self\" rel=\" noreferrer nofollow\">3. Add tokenized columns</a></li>\n",
    "    <li><a href=\"#2\" target=\"_self\" rel=\" noreferrer nofollow\">4. Save as a hugging face dataset</a></li>\n",
    "\n",
    "</ul>\n",
    "</div>"
   ],
   "metadata": {
    "collapsed": false,
    "id": "-nN65mkR_yDe"
   }
  },
  {
   "cell_type": "markdown",
   "source": [],
   "metadata": {
    "collapsed": false,
    "id": "BRmLGAHZ_yDe"
   }
  },
  {
   "cell_type": "markdown",
   "source": [
    "<a id=\"0\"></a>\n",
    "<div style=\"background-color: teal; padding: 10px;\">\n",
    "    <h3 style=\"color: white;\">Housekeeping</h3>\n",
    "</div>"
   ],
   "metadata": {
    "collapsed": false,
    "id": "WYQvQoqx_yDf"
   }
  },
  {
   "cell_type": "markdown",
   "source": [
    "Environment"
   ],
   "metadata": {
    "collapsed": false,
    "id": "NWnPemDN_yDf"
   }
  },
  {
   "cell_type": "code",
   "execution_count": 1,
   "outputs": [],
   "source": [
    "import importlib\n",
    "\n",
    "def install_if_not_installed(package_name):\n",
    "    try:\n",
    "        importlib.import_module(package_name)  # Try to import the package\n",
    "    except ImportError:\n",
    "        print(f\"\\n=========================\\ninstalling {package_name}\\n=========================\")\n",
    "        !pip install {package_name}  # If it's not installed, install it"
   ],
   "metadata": {
    "id": "X9emKTUM_yDf",
    "executionInfo": {
     "status": "ok",
     "timestamp": 1696714043350,
     "user_tz": 420,
     "elapsed": 793,
     "user": {
      "displayName": "Chris Lomeli",
      "userId": "08772038892035982771"
     }
    },
    "ExecuteTime": {
     "end_time": "2023-10-08T00:50:20.906088Z",
     "start_time": "2023-10-08T00:50:20.846026Z"
    }
   }
  },
  {
   "cell_type": "code",
   "execution_count": 2,
   "outputs": [
    {
     "name": "stdout",
     "output_type": "stream",
     "text": [
      "\n",
      "=========================\n",
      "installing aicrowd-cli\n",
      "=========================\n",
      "Requirement already satisfied: aicrowd-cli in /Users/christopherlomeli/anaconda3/envs/ml_play_kitchensink/lib/python3.9/site-packages (0.1.15)\r\n",
      "Requirement already satisfied: click<8,>=7.1.2 in /Users/christopherlomeli/anaconda3/envs/ml_play_kitchensink/lib/python3.9/site-packages (from aicrowd-cli) (7.1.2)\r\n",
      "Requirement already satisfied: GitPython==3.1.18 in /Users/christopherlomeli/anaconda3/envs/ml_play_kitchensink/lib/python3.9/site-packages (from aicrowd-cli) (3.1.18)\r\n",
      "Requirement already satisfied: requests<3,>=2.25.1 in /Users/christopherlomeli/anaconda3/envs/ml_play_kitchensink/lib/python3.9/site-packages (from aicrowd-cli) (2.31.0)\r\n",
      "Requirement already satisfied: requests-toolbelt<1,>=0.9.1 in /Users/christopherlomeli/anaconda3/envs/ml_play_kitchensink/lib/python3.9/site-packages (from aicrowd-cli) (0.10.1)\r\n",
      "Requirement already satisfied: rich<11,>=10.0.0 in /Users/christopherlomeli/anaconda3/envs/ml_play_kitchensink/lib/python3.9/site-packages (from aicrowd-cli) (10.16.2)\r\n",
      "Requirement already satisfied: toml<1,>=0.10.2 in /Users/christopherlomeli/anaconda3/envs/ml_play_kitchensink/lib/python3.9/site-packages (from aicrowd-cli) (0.10.2)\r\n",
      "Requirement already satisfied: tqdm<5,>=4.56.0 in /Users/christopherlomeli/anaconda3/envs/ml_play_kitchensink/lib/python3.9/site-packages (from aicrowd-cli) (4.65.0)\r\n",
      "Requirement already satisfied: pyzmq==22.1.0 in /Users/christopherlomeli/anaconda3/envs/ml_play_kitchensink/lib/python3.9/site-packages (from aicrowd-cli) (22.1.0)\r\n",
      "Requirement already satisfied: python-slugify<6,>=5.0.0 in /Users/christopherlomeli/anaconda3/envs/ml_play_kitchensink/lib/python3.9/site-packages (from aicrowd-cli) (5.0.2)\r\n",
      "Requirement already satisfied: semver<3,>=2.13.0 in /Users/christopherlomeli/anaconda3/envs/ml_play_kitchensink/lib/python3.9/site-packages (from aicrowd-cli) (2.13.0)\r\n",
      "Requirement already satisfied: gitdb<5,>=4.0.1 in /Users/christopherlomeli/anaconda3/envs/ml_play_kitchensink/lib/python3.9/site-packages (from GitPython==3.1.18->aicrowd-cli) (4.0.10)\r\n",
      "Requirement already satisfied: text-unidecode>=1.3 in /Users/christopherlomeli/anaconda3/envs/ml_play_kitchensink/lib/python3.9/site-packages (from python-slugify<6,>=5.0.0->aicrowd-cli) (1.3)\r\n",
      "Requirement already satisfied: charset-normalizer<4,>=2 in /Users/christopherlomeli/anaconda3/envs/ml_play_kitchensink/lib/python3.9/site-packages (from requests<3,>=2.25.1->aicrowd-cli) (3.1.0)\r\n",
      "Requirement already satisfied: idna<4,>=2.5 in /Users/christopherlomeli/anaconda3/envs/ml_play_kitchensink/lib/python3.9/site-packages (from requests<3,>=2.25.1->aicrowd-cli) (3.4)\r\n",
      "Requirement already satisfied: urllib3<3,>=1.21.1 in /Users/christopherlomeli/anaconda3/envs/ml_play_kitchensink/lib/python3.9/site-packages (from requests<3,>=2.25.1->aicrowd-cli) (1.26.16)\r\n",
      "Requirement already satisfied: certifi>=2017.4.17 in /Users/christopherlomeli/anaconda3/envs/ml_play_kitchensink/lib/python3.9/site-packages (from requests<3,>=2.25.1->aicrowd-cli) (2023.5.7)\r\n",
      "Requirement already satisfied: colorama<0.5.0,>=0.4.0 in /Users/christopherlomeli/.local/lib/python3.9/site-packages (from rich<11,>=10.0.0->aicrowd-cli) (0.4.4)\r\n",
      "Requirement already satisfied: commonmark<0.10.0,>=0.9.0 in /Users/christopherlomeli/anaconda3/envs/ml_play_kitchensink/lib/python3.9/site-packages (from rich<11,>=10.0.0->aicrowd-cli) (0.9.1)\r\n",
      "Requirement already satisfied: pygments<3.0.0,>=2.6.0 in /Users/christopherlomeli/anaconda3/envs/ml_play_kitchensink/lib/python3.9/site-packages (from rich<11,>=10.0.0->aicrowd-cli) (2.15.1)\r\n",
      "Requirement already satisfied: smmap<6,>=3.0.1 in /Users/christopherlomeli/anaconda3/envs/ml_play_kitchensink/lib/python3.9/site-packages (from gitdb<5,>=4.0.1->GitPython==3.1.18->aicrowd-cli) (5.0.1)\r\n"
     ]
    }
   ],
   "source": [
    "install_if_not_installed('transformers')\n",
    "install_if_not_installed('datasets')\n",
    "install_if_not_installed('aicrowd-cli')"
   ],
   "metadata": {
    "colab": {
     "base_uri": "https://localhost:8080/"
    },
    "id": "tQuZ3-G9_yDg",
    "executionInfo": {
     "status": "ok",
     "timestamp": 1696714049892,
     "user_tz": 420,
     "elapsed": 5372,
     "user": {
      "displayName": "Chris Lomeli",
      "userId": "08772038892035982771"
     }
    },
    "outputId": "b858ef58-d764-4bef-c0be-5ff14ef59e3c",
    "ExecuteTime": {
     "end_time": "2023-10-08T00:50:22.922243Z",
     "start_time": "2023-10-08T00:50:20.848749Z"
    }
   }
  },
  {
   "cell_type": "markdown",
   "source": [
    "Imports"
   ],
   "metadata": {
    "collapsed": false,
    "id": "UCaZgoY4_yDg"
   }
  },
  {
   "cell_type": "code",
   "execution_count": 3,
   "outputs": [],
   "source": [
    "import tensorflow as tf\n",
    "import pandas as pd\n",
    "import numpy as np\n",
    "import matplotlib.pyplot as plt\n",
    "import datetime\n",
    "import pathlib\n",
    "import os\n",
    "import sys\n",
    "import re\n",
    "import csv\n",
    "import string\n",
    "import time\n",
    "from numpy import random\n",
    "# import gensim.downloader as api\n",
    "from PIL import Image\n",
    "from tensorflow.keras.models import Model\n",
    "from tensorflow.keras.layers import Layer\n",
    "from tensorflow.keras.losses import BinaryCrossentropy,CategoricalCrossentropy, SparseCategoricalCrossentropy\n",
    "from tensorflow.keras.optimizers import Adam\n",
    "from tensorflow.python.keras.callbacks import EarlyStopping\n",
    "\n",
    "from datasets import load_dataset, load_from_disk, DatasetDict\n",
    "from transformers import AutoTokenizer,create_optimizer,TFAutoModel\n",
    "\n",
    "# Local\n",
    "\n",
    "import json"
   ],
   "metadata": {
    "id": "Sk-41kD5_yDh",
    "executionInfo": {
     "status": "ok",
     "timestamp": 1696714053587,
     "user_tz": 420,
     "elapsed": 3699,
     "user": {
      "displayName": "Chris Lomeli",
      "userId": "08772038892035982771"
     }
    },
    "ExecuteTime": {
     "end_time": "2023-10-08T00:50:25.526035Z",
     "start_time": "2023-10-08T00:50:22.923009Z"
    }
   }
  },
  {
   "cell_type": "markdown",
   "source": [
    "<a id=\"0\"></a>\n",
    "<div style=\"background-color: teal; padding: 10px;\">\n",
    "    <h3 style=\"color: white;\">Colab Setup</h3>\n",
    "</div>"
   ],
   "metadata": {
    "collapsed": false,
    "id": "PlCO30lM_yDh"
   }
  },
  {
   "cell_type": "markdown",
   "source": [
    "mount Google Drive and import local packages"
   ],
   "metadata": {
    "collapsed": false,
    "id": "vlmHjCCQ_yDh"
   }
  },
  {
   "cell_type": "code",
   "execution_count": 4,
   "outputs": [],
   "source": [
    "\n",
    "# Check if running in Google Colab\n",
    "if 'google.colab' in sys.modules:\n",
    "    from google.colab import drive\n",
    "    from google.colab import files\n",
    "\n",
    "    drive.mount('/content/drive')\n",
    "\n",
    "    from drive.MyDrive.projects.capstone3.source.sentence_transformer import TransformerModel\n",
    "    from drive.MyDrive.projects.capstone3.source.config import get_config, get_directory\n",
    "    from drive.MyDrive.projects.capstone3.source.secrets import get_secret\n",
    "\n",
    "else:\n",
    "    sys.path.append('../src')  # Add the 'src' directory to the Python path\n",
    "    sys.path.append('../_secrets')  # Add the 'src' directory to the Python path\n",
    "\n",
    "    from src.sentence_transformer import TransformerModel\n",
    "    from src.config import get_directory, get_config, get_directory\n",
    "    from _secrets.secret_vars import get_secret\n"
   ],
   "metadata": {
    "colab": {
     "base_uri": "https://localhost:8080/"
    },
    "id": "jrH1Lqsl_yDh",
    "executionInfo": {
     "status": "ok",
     "timestamp": 1696714056078,
     "user_tz": 420,
     "elapsed": 2495,
     "user": {
      "displayName": "Chris Lomeli",
      "userId": "08772038892035982771"
     }
    },
    "outputId": "5fa29686-975e-48f4-b775-ab7a8123d4e4",
    "ExecuteTime": {
     "end_time": "2023-10-08T00:50:26.032279Z",
     "start_time": "2023-10-08T00:50:25.528450Z"
    }
   }
  },
  {
   "cell_type": "markdown",
   "source": [
    "Check GPU"
   ],
   "metadata": {
    "collapsed": false,
    "id": "BbPLs87D_yDh"
   }
  },
  {
   "cell_type": "code",
   "execution_count": 5,
   "outputs": [],
   "source": [
    "if 'google.colab' in sys.modules:\n",
    "\n",
    "    gpu_info = !nvidia-smi\n",
    "    gpu_info = '\\n'.join(gpu_info)\n",
    "    if gpu_info.find('failed') >= 0:\n",
    "      print('Not connected to a GPU')\n",
    "    else:\n",
    "      print(gpu_info)"
   ],
   "metadata": {
    "colab": {
     "base_uri": "https://localhost:8080/"
    },
    "id": "jGDICN_k_yDh",
    "executionInfo": {
     "status": "ok",
     "timestamp": 1696714056079,
     "user_tz": 420,
     "elapsed": 18,
     "user": {
      "displayName": "Chris Lomeli",
      "userId": "08772038892035982771"
     }
    },
    "outputId": "4ece347e-6753-4e28-ed6f-1245c65aa437",
    "ExecuteTime": {
     "end_time": "2023-10-08T00:50:26.042252Z",
     "start_time": "2023-10-08T00:50:26.033137Z"
    }
   }
  },
  {
   "cell_type": "markdown",
   "source": [
    "Check Ram"
   ],
   "metadata": {
    "collapsed": false,
    "id": "gqbQdN70_yDi"
   }
  },
  {
   "cell_type": "code",
   "execution_count": 6,
   "outputs": [],
   "source": [
    "# Check free RAM\n",
    "if 'google.colab' in sys.modules:\n",
    "    !free -h"
   ],
   "metadata": {
    "colab": {
     "base_uri": "https://localhost:8080/"
    },
    "id": "QrYO-olA_yDi",
    "executionInfo": {
     "status": "ok",
     "timestamp": 1696714056079,
     "user_tz": 420,
     "elapsed": 8,
     "user": {
      "displayName": "Chris Lomeli",
      "userId": "08772038892035982771"
     }
    },
    "outputId": "f6fa84e0-8a58-4a36-dd7c-19879ac15adc",
    "ExecuteTime": {
     "end_time": "2023-10-08T00:50:26.042444Z",
     "start_time": "2023-10-08T00:50:26.035438Z"
    }
   }
  },
  {
   "cell_type": "markdown",
   "source": [
    "Check GPU"
   ],
   "metadata": {
    "collapsed": false,
    "id": "4BFr0i1f_yDi"
   }
  },
  {
   "cell_type": "code",
   "execution_count": 7,
   "outputs": [
    {
     "name": "stdout",
     "output_type": "stream",
     "text": [
      "Found GPU at: /device:GPU:0\n"
     ]
    },
    {
     "name": "stderr",
     "output_type": "stream",
     "text": [
      "2023-10-07 17:50:26.037231: I metal_plugin/src/device/metal_device.cc:1154] Metal device set to: Apple M1 Pro\n",
      "2023-10-07 17:50:26.037256: I metal_plugin/src/device/metal_device.cc:296] systemMemory: 16.00 GB\n",
      "2023-10-07 17:50:26.037260: I metal_plugin/src/device/metal_device.cc:313] maxCacheSize: 5.33 GB\n",
      "2023-10-07 17:50:26.037292: I tensorflow/core/common_runtime/pluggable_device/pluggable_device_factory.cc:306] Could not identify NUMA node of platform GPU ID 0, defaulting to 0. Your kernel may not have been built with NUMA support.\n",
      "2023-10-07 17:50:26.037306: I tensorflow/core/common_runtime/pluggable_device/pluggable_device_factory.cc:272] Created TensorFlow device (/device:GPU:0 with 0 MB memory) -> physical PluggableDevice (device: 0, name: METAL, pci bus id: <undefined>)\n"
     ]
    }
   ],
   "source": [
    "device_name = tf.test.gpu_device_name()\n",
    "if device_name != '/device:GPU:0':\n",
    "  raise SystemError('GPU device not found')\n",
    "print('Found GPU at: {}'.format(device_name))"
   ],
   "metadata": {
    "colab": {
     "base_uri": "https://localhost:8080/"
    },
    "id": "BN8HQDb8_yDi",
    "executionInfo": {
     "status": "ok",
     "timestamp": 1696714056561,
     "user_tz": 420,
     "elapsed": 15,
     "user": {
      "displayName": "Chris Lomeli",
      "userId": "08772038892035982771"
     }
    },
    "outputId": "8db0104c-bdbb-487c-c4e0-3500c9a3390a",
    "ExecuteTime": {
     "end_time": "2023-10-08T00:50:26.042835Z",
     "start_time": "2023-10-08T00:50:26.039155Z"
    }
   }
  },
  {
   "cell_type": "code",
   "execution_count": 8,
   "outputs": [
    {
     "name": "stdout",
     "output_type": "stream",
     "text": [
      "Your runtime has 17.2 gigabytes of available RAM\n",
      "\n",
      "!!!!!!!!!!!!  Not using a high-RAM runtime  !!!!!!!!!!!!!!!!!!\n"
     ]
    }
   ],
   "source": [
    "from psutil import virtual_memory\n",
    "ram_gb = virtual_memory().total / 1e9\n",
    "print('Your runtime has {:.1f} gigabytes of available RAM\\n'.format(ram_gb))\n",
    "\n",
    "if ram_gb < 20:\n",
    "  print('!!!!!!!!!!!!  Not using a high-RAM runtime  !!!!!!!!!!!!!!!!!!')\n",
    "else:\n",
    "  print('You are using a high-RAM runtime!')"
   ],
   "metadata": {
    "colab": {
     "base_uri": "https://localhost:8080/"
    },
    "id": "yhaVUL9G_yDi",
    "executionInfo": {
     "status": "ok",
     "timestamp": 1696714056561,
     "user_tz": 420,
     "elapsed": 9,
     "user": {
      "displayName": "Chris Lomeli",
      "userId": "08772038892035982771"
     }
    },
    "outputId": "061a3021-bac3-4e3d-dd2e-8f8ecbc0df9d",
    "ExecuteTime": {
     "end_time": "2023-10-08T00:50:26.046732Z",
     "start_time": "2023-10-08T00:50:26.042591Z"
    }
   }
  },
  {
   "cell_type": "markdown",
   "source": [
    "<a id=\"0\"></a>\n",
    "<div style=\"background-color: teal; padding: 10px;\">\n",
    "    <h3 style=\"color: white;\">Ai Crowd Setup Setup</h3>\n",
    "</div>"
   ],
   "metadata": {
    "collapsed": false,
    "id": "t874hLE0_yDi"
   }
  },
  {
   "cell_type": "code",
   "execution_count": 9,
   "metadata": {
    "executionInfo": {
     "elapsed": 7,
     "status": "ok",
     "timestamp": 1696714056562,
     "user": {
      "displayName": "Chris Lomeli",
      "userId": "08772038892035982771"
     },
     "user_tz": 420
    },
    "id": "fvDSmkoyKVTy",
    "ExecuteTime": {
     "end_time": "2023-10-08T00:50:26.048731Z",
     "start_time": "2023-10-08T00:50:26.046220Z"
    }
   },
   "outputs": [],
   "source": [
    "api_key = get_secret('api_key')\n",
    "os.environ[\"AICROWD_API_KEY\"] = api_key"
   ]
  },
  {
   "cell_type": "code",
   "execution_count": 10,
   "metadata": {
    "colab": {
     "base_uri": "https://localhost:8080/"
    },
    "executionInfo": {
     "elapsed": 2635,
     "status": "ok",
     "timestamp": 1696714059191,
     "user": {
      "displayName": "Chris Lomeli",
      "userId": "08772038892035982771"
     },
     "user_tz": 420
    },
    "id": "b3k1BWUqNkaW",
    "outputId": "06041c77-936a-44bd-dcf9-2db7f52e6562",
    "ExecuteTime": {
     "end_time": "2023-10-08T00:50:29.306791Z",
     "start_time": "2023-10-08T00:50:26.048378Z"
    }
   },
   "outputs": [
    {
     "name": "stdout",
     "output_type": "stream",
     "text": [
      "\u001B[32mAPI Key valid\u001B[0m\r\n",
      "\u001B[33mGitlab oauth token invalid or absent.\r\n",
      "It is highly recommended to simply run `aicrowd login` without passing the API Key.\u001B[0m\r\n",
      "\u001B[32mSaved details successfully!\u001B[0m\r\n"
     ]
    }
   ],
   "source": [
    "! aicrowd login"
   ]
  },
  {
   "cell_type": "markdown",
   "source": [
    "<a id=\"0\"></a>\n",
    "<div style=\"background-color: teal; padding: 10px;\">\n",
    "    <h3 style=\"color: white;\">Load Data</h3>\n",
    "</div>"
   ],
   "metadata": {
    "collapsed": false,
    "id": "MxabAWM9_yDj"
   }
  },
  {
   "cell_type": "code",
   "execution_count": 11,
   "outputs": [],
   "source": [
    "train_size = 5000  # Specify the size of the training set\n",
    "if 'google.colab' in sys.modules:\n",
    "  train_size = 25000  # Specify the size of the training set\n"
   ],
   "metadata": {
    "id": "VVA92qm3_yDj",
    "executionInfo": {
     "status": "ok",
     "timestamp": 1696714059191,
     "user_tz": 420,
     "elapsed": 8,
     "user": {
      "displayName": "Chris Lomeli",
      "userId": "08772038892035982771"
     }
    },
    "ExecuteTime": {
     "end_time": "2023-10-08T00:50:29.317675Z",
     "start_time": "2023-10-08T00:50:29.308280Z"
    }
   }
  },
  {
   "cell_type": "code",
   "execution_count": 12,
   "metadata": {
    "colab": {
     "base_uri": "https://localhost:8080/"
    },
    "executionInfo": {
     "elapsed": 7,
     "status": "ok",
     "timestamp": 1696714059191,
     "user": {
      "displayName": "Chris Lomeli",
      "userId": "08772038892035982771"
     },
     "user_tz": 420
    },
    "id": "LwkkQYNzO2aI",
    "outputId": "b1d9219a-ba67-45e6-b6ec-97e5f6eabf9d",
    "ExecuteTime": {
     "end_time": "2023-10-08T00:50:29.318001Z",
     "start_time": "2023-10-08T00:50:29.311152Z"
    }
   },
   "outputs": [
    {
     "name": "stdout",
     "output_type": "stream",
     "text": [
      "/Users/christopherlomeli/Source/courses/datascience/Springboard/capstone/capstone3/data/nlp/us_tokenized\n"
     ]
    }
   ],
   "source": [
    "stage_dir = os.path.join(get_directory('data', mkdir=False), 'nlp' )\n",
    "nlp_data = os.path.join(stage_dir, 'us_tokenized')\n",
    "print(nlp_data)"
   ]
  },
  {
   "cell_type": "code",
   "execution_count": 13,
   "metadata": {
    "executionInfo": {
     "elapsed": 5,
     "status": "ok",
     "timestamp": 1696714059191,
     "user": {
      "displayName": "Chris Lomeli",
      "userId": "08772038892035982771"
     },
     "user_tz": 420
    },
    "id": "oFAWLXkjPFf7",
    "ExecuteTime": {
     "end_time": "2023-10-08T00:50:29.351195Z",
     "start_time": "2023-10-08T00:50:29.314435Z"
    }
   },
   "outputs": [],
   "source": [
    "dataset = load_from_disk(nlp_data)"
   ]
  },
  {
   "cell_type": "code",
   "execution_count": 14,
   "outputs": [],
   "source": [
    "\n",
    "dataset_size = len(dataset['train'])\n",
    "\n",
    "# Split the dataset into train and test sets\n",
    "if train_size == 0:\n",
    "    train_size = dataset_size  # Specify the size of the training set\n",
    "\n",
    "\n",
    "train_split, test_split = int(train_size * 1), int(train_size * 0)\n",
    "\n",
    "# Create a new DatasetDict for the training set\n",
    "X_train = DatasetDict({\n",
    "    'train': dataset['train'].select(list(range(train_split)))\n",
    "})\n",
    "\n",
    "# Create a new DatasetDict for the test set\n",
    "X_test = DatasetDict({\n",
    "    'test': dataset['train'].select(list(range(test_split)))\n",
    "})\n",
    "\n"
   ],
   "metadata": {
    "id": "MpZhmQ8b_yDj",
    "executionInfo": {
     "status": "ok",
     "timestamp": 1696714059191,
     "user_tz": 420,
     "elapsed": 5,
     "user": {
      "displayName": "Chris Lomeli",
      "userId": "08772038892035982771"
     }
    },
    "ExecuteTime": {
     "end_time": "2023-10-08T00:50:29.361611Z",
     "start_time": "2023-10-08T00:50:29.335018Z"
    }
   }
  },
  {
   "cell_type": "code",
   "execution_count": 15,
   "outputs": [
    {
     "name": "stdout",
     "output_type": "stream",
     "text": [
      "Training Size == 5000\n",
      "Test Size == 0\n"
     ]
    }
   ],
   "source": [
    "print(f\"Training Size == {len(X_train['train'])}\")\n",
    "print(f\"Test Size == {len(X_test['test'])}\")"
   ],
   "metadata": {
    "colab": {
     "base_uri": "https://localhost:8080/"
    },
    "id": "MepnkG23_yDj",
    "executionInfo": {
     "status": "ok",
     "timestamp": 1696714059191,
     "user_tz": 420,
     "elapsed": 4,
     "user": {
      "displayName": "Chris Lomeli",
      "userId": "08772038892035982771"
     }
    },
    "outputId": "01b50149-0e8c-4200-b7bd-7d8fcbbb1833",
    "ExecuteTime": {
     "end_time": "2023-10-08T00:50:29.361913Z",
     "start_time": "2023-10-08T00:50:29.345267Z"
    }
   }
  },
  {
   "cell_type": "markdown",
   "source": [
    "<a id=\"0\"></a>\n",
    "<div style=\"background-color: teal; padding: 10px;\">\n",
    "    <h3 style=\"color: white;\">Prepare and train the model</h3>\n",
    "</div>"
   ],
   "metadata": {
    "collapsed": false,
    "id": "Z28nq-Zm_yDj"
   }
  },
  {
   "cell_type": "code",
   "execution_count": 16,
   "outputs": [],
   "source": [
    "EPOCHS = 20\n",
    "BATCH_SIZE=128\n",
    "LEARNING_RATE = .0001"
   ],
   "metadata": {
    "id": "9Ct4m-yx_yDj",
    "executionInfo": {
     "status": "ok",
     "timestamp": 1696714059191,
     "user_tz": 420,
     "elapsed": 3,
     "user": {
      "displayName": "Chris Lomeli",
      "userId": "08772038892035982771"
     }
    },
    "ExecuteTime": {
     "end_time": "2023-10-08T00:50:29.361972Z",
     "start_time": "2023-10-08T00:50:29.347367Z"
    }
   }
  },
  {
   "cell_type": "markdown",
   "source": [
    "convert to tensorflow dataset"
   ],
   "metadata": {
    "collapsed": false,
    "id": "0VHMxhx-_yDj"
   }
  },
  {
   "cell_type": "code",
   "execution_count": 17,
   "metadata": {
    "executionInfo": {
     "elapsed": 799,
     "status": "ok",
     "timestamp": 1696714059987,
     "user": {
      "displayName": "Chris Lomeli",
      "userId": "08772038892035982771"
     },
     "user_tz": 420
    },
    "id": "Sb4qSkOMaWL5",
    "ExecuteTime": {
     "end_time": "2023-10-08T00:50:29.632948Z",
     "start_time": "2023-10-08T00:50:29.351282Z"
    }
   },
   "outputs": [
    {
     "name": "stderr",
     "output_type": "stream",
     "text": [
      "2023-10-07 17:50:29.379264: I tensorflow/core/common_runtime/pluggable_device/pluggable_device_factory.cc:306] Could not identify NUMA node of platform GPU ID 0, defaulting to 0. Your kernel may not have been built with NUMA support.\n",
      "2023-10-07 17:50:29.379294: I tensorflow/core/common_runtime/pluggable_device/pluggable_device_factory.cc:272] Created TensorFlow device (/job:localhost/replica:0/task:0/device:GPU:0 with 0 MB memory) -> physical PluggableDevice (device: 0, name: METAL, pci bus id: <undefined>)\n"
     ]
    }
   ],
   "source": [
    "tf_dataset = X_train[\"train\"].to_tf_dataset(\n",
    "    columns=['input_ids_query', 'token_type_ids_query', 'attention_mask_query','input_ids_product', 'token_type_ids_product', 'attention_mask_product', 'label'],\n",
    "    shuffle=True,\n",
    "    batch_size=BATCH_SIZE,\n",
    ")"
   ]
  },
  {
   "cell_type": "markdown",
   "source": [
    "Instantiate the model"
   ],
   "metadata": {
    "collapsed": false,
    "id": "Gw3JUS7C_yDj"
   }
  },
  {
   "cell_type": "code",
   "execution_count": 18,
   "metadata": {
    "colab": {
     "base_uri": "https://localhost:8080/"
    },
    "executionInfo": {
     "elapsed": 3,
     "status": "ok",
     "timestamp": 1696714059987,
     "user": {
      "displayName": "Chris Lomeli",
      "userId": "08772038892035982771"
     },
     "user_tz": 420
    },
    "id": "UJ7ov7NvadQV",
    "outputId": "6d3a7cc2-60ec-476a-e5da-e7886782ade7",
    "ExecuteTime": {
     "end_time": "2023-10-08T00:50:29.635352Z",
     "start_time": "2023-10-08T00:50:29.633304Z"
    }
   },
   "outputs": [
    {
     "name": "stdout",
     "output_type": "stream",
     "text": [
      "Using model  sentence-transformers/all-MiniLM-L6-v2\n"
     ]
    }
   ],
   "source": [
    "model_id=get_config(\"model_id\")\n",
    "print(\"Using model \", model_id)"
   ]
  },
  {
   "cell_type": "markdown",
   "source": [],
   "metadata": {
    "collapsed": false,
    "id": "_xWFhYnx_yDk"
   }
  },
  {
   "cell_type": "code",
   "execution_count": 19,
   "metadata": {
    "colab": {
     "base_uri": "https://localhost:8080/"
    },
    "executionInfo": {
     "elapsed": 3983,
     "status": "ok",
     "timestamp": 1696714063969,
     "user": {
      "displayName": "Chris Lomeli",
      "userId": "08772038892035982771"
     },
     "user_tz": 420
    },
    "id": "SDCkbfBOahgd",
    "outputId": "76a17f61-6a40-4ba2-d45e-6e2c3c2d4fd0",
    "ExecuteTime": {
     "end_time": "2023-10-08T00:50:32.494911Z",
     "start_time": "2023-10-08T00:50:29.635841Z"
    }
   },
   "outputs": [
    {
     "name": "stderr",
     "output_type": "stream",
     "text": [
      "All model checkpoint layers were used when initializing TFBertModel.\n",
      "\n",
      "All the layers of TFBertModel were initialized from the model checkpoint at sentence-transformers/all-MiniLM-L6-v2.\n",
      "If your task is similar to the task the model of the checkpoint was trained on, you can already use TFBertModel for predictions without further training.\n"
     ]
    },
    {
     "name": "stdout",
     "output_type": "stream",
     "text": [
      "Model: \"tf_bert_model\"\n",
      "_________________________________________________________________\n",
      " Layer (type)                Output Shape              Param #   \n",
      "=================================================================\n",
      " bert (TFBertMainLayer)      multiple                  22713216  \n",
      "                                                                 \n",
      "=================================================================\n",
      "Total params: 22713216 (86.64 MB)\n",
      "Trainable params: 22713216 (86.64 MB)\n",
      "Non-trainable params: 0 (0.00 Byte)\n",
      "_________________________________________________________________\n"
     ]
    }
   ],
   "source": [
    "tf_model = TFAutoModel.from_pretrained(model_id)\n",
    "tf_model.summary()"
   ]
  },
  {
   "cell_type": "markdown",
   "source": [
    "Wrap in our custom model"
   ],
   "metadata": {
    "collapsed": false,
    "id": "P6JiXhXz_yDk"
   }
  },
  {
   "cell_type": "code",
   "execution_count": 20,
   "metadata": {
    "executionInfo": {
     "elapsed": 5,
     "status": "ok",
     "timestamp": 1696714063969,
     "user": {
      "displayName": "Chris Lomeli",
      "userId": "08772038892035982771"
     },
     "user_tz": 420
    },
    "id": "ToztH7XIavz5",
    "ExecuteTime": {
     "end_time": "2023-10-08T00:50:32.506822Z",
     "start_time": "2023-10-08T00:50:32.493782Z"
    }
   },
   "outputs": [],
   "source": [
    "model=TransformerModel(tf_model)"
   ]
  },
  {
   "cell_type": "markdown",
   "source": [
    "Compile and fit"
   ],
   "metadata": {
    "collapsed": false,
    "id": "mjtliOxj_yDq"
   }
  },
  {
   "cell_type": "code",
   "execution_count": 21,
   "metadata": {
    "executionInfo": {
     "elapsed": 4,
     "status": "ok",
     "timestamp": 1696714063969,
     "user": {
      "displayName": "Chris Lomeli",
      "userId": "08772038892035982771"
     },
     "user_tz": 420
    },
    "id": "gpo17hh2bFLL",
    "ExecuteTime": {
     "end_time": "2023-10-08T00:50:32.548160Z",
     "start_time": "2023-10-08T00:50:32.501697Z"
    }
   },
   "outputs": [],
   "source": [
    "\n",
    "if 'google.colab' in sys.modules:\n",
    "    optimizer = tf.keras.optimizers.Adam(learning_rate=LEARNING_RATE,)\n",
    "else:\n",
    "    optimizer = tf.keras.optimizers.legacy.Adam(learning_rate=LEARNING_RATE,)\n",
    "\n",
    "model.compile(\n",
    "    optimizer=optimizer,\n",
    "    loss=tf.keras.losses.BinaryCrossentropy()\n",
    ")"
   ]
  },
  {
   "cell_type": "code",
   "execution_count": 22,
   "metadata": {
    "colab": {
     "base_uri": "https://localhost:8080/"
    },
    "id": "9XUM9tMubH7U",
    "executionInfo": {
     "status": "ok",
     "timestamp": 1696718051167,
     "user_tz": 420,
     "elapsed": 3017626,
     "user": {
      "displayName": "Chris Lomeli",
      "userId": "08772038892035982771"
     }
    },
    "outputId": "31b7bc16-b8ae-4d5b-9ee0-2acf4c12056d",
    "ExecuteTime": {
     "end_time": "2023-10-08T01:03:57.374589Z",
     "start_time": "2023-10-08T00:50:32.519569Z"
    }
   },
   "outputs": [
    {
     "name": "stdout",
     "output_type": "stream",
     "text": [
      "Epoch 1/20\n",
      "WARNING:tensorflow:Gradients do not exist for variables ['tf_bert_model/bert/pooler/dense/kernel:0', 'tf_bert_model/bert/pooler/dense/bias:0'] when minimizing the loss. If you're using `model.compile()`, did you forget to provide a `loss` argument?\n",
      "WARNING:tensorflow:Gradients do not exist for variables ['tf_bert_model/bert/pooler/dense/kernel:0', 'tf_bert_model/bert/pooler/dense/bias:0'] when minimizing the loss. If you're using `model.compile()`, did you forget to provide a `loss` argument?\n"
     ]
    },
    {
     "name": "stderr",
     "output_type": "stream",
     "text": [
      "2023-10-07 17:50:40.203803: I tensorflow/core/grappler/optimizers/custom_graph_optimizer_registry.cc:117] Plugin optimizer for device_type GPU is enabled.\n"
     ]
    },
    {
     "name": "stdout",
     "output_type": "stream",
     "text": [
      "40/40 [==============================] - 57s 1s/step - loss: 0.6282\n",
      "Epoch 2/20\n",
      "40/40 [==============================] - 39s 936ms/step - loss: 0.5527\n",
      "Epoch 3/20\n",
      "40/40 [==============================] - 38s 938ms/step - loss: 0.4855\n",
      "Epoch 4/20\n",
      "40/40 [==============================] - 38s 951ms/step - loss: 0.4296\n",
      "Epoch 5/20\n",
      "40/40 [==============================] - 38s 934ms/step - loss: 0.3840\n",
      "Epoch 6/20\n",
      "40/40 [==============================] - 40s 986ms/step - loss: 0.3604\n",
      "Epoch 7/20\n",
      "40/40 [==============================] - 40s 976ms/step - loss: 0.3337\n",
      "Epoch 8/20\n",
      "40/40 [==============================] - 39s 976ms/step - loss: 0.3192\n",
      "Epoch 9/20\n",
      "40/40 [==============================] - 41s 1s/step - loss: 0.3085\n",
      "Epoch 10/20\n",
      "40/40 [==============================] - 39s 970ms/step - loss: 0.2988\n",
      "Epoch 11/20\n",
      "40/40 [==============================] - 39s 960ms/step - loss: 0.2873\n",
      "Epoch 12/20\n",
      "40/40 [==============================] - 40s 986ms/step - loss: 0.2899\n",
      "Epoch 13/20\n",
      "40/40 [==============================] - 41s 1s/step - loss: 0.2792\n",
      "Epoch 14/20\n",
      "40/40 [==============================] - 42s 1s/step - loss: 0.2712\n",
      "Epoch 15/20\n",
      "40/40 [==============================] - 41s 1s/step - loss: 0.2698\n",
      "Epoch 16/20\n",
      "40/40 [==============================] - 40s 992ms/step - loss: 0.2620\n",
      "Epoch 17/20\n",
      "40/40 [==============================] - 39s 967ms/step - loss: 0.2598\n",
      "Epoch 18/20\n",
      "40/40 [==============================] - 39s 964ms/step - loss: 0.2591\n",
      "Epoch 19/20\n",
      "40/40 [==============================] - 39s 980ms/step - loss: 0.2574\n",
      "Epoch 20/20\n",
      "40/40 [==============================] - 38s 940ms/step - loss: 0.2524\n"
     ]
    }
   ],
   "source": [
    "\n",
    "r = None\n",
    "try:\n",
    "\n",
    "    early_stopping_callback = EarlyStopping(monitor='loss', patience=3, restore_best_weights=True)\n",
    "\n",
    "    callbacks = [early_stopping_callback]\n",
    "\n",
    "    r = model.fit(tf_dataset, epochs=EPOCHS, verbose=1, callbacks=callbacks)\n",
    "\n",
    "\n",
    "except Exception as e:\n",
    "    print(\"An error occurred:\", str(e))\n"
   ]
  },
  {
   "cell_type": "markdown",
   "source": [
    "Plot the loss"
   ],
   "metadata": {
    "collapsed": false,
    "id": "FtWDQTml_yDq"
   }
  },
  {
   "cell_type": "code",
   "execution_count": 23,
   "metadata": {
    "colab": {
     "base_uri": "https://localhost:8080/",
     "height": 449
    },
    "id": "H7TlIDIfbLeZ",
    "executionInfo": {
     "status": "ok",
     "timestamp": 1696718051169,
     "user_tz": 420,
     "elapsed": 4,
     "user": {
      "displayName": "Chris Lomeli",
      "userId": "08772038892035982771"
     }
    },
    "outputId": "74c91f7f-2535-4133-99f8-ba4517b47b2c",
    "ExecuteTime": {
     "end_time": "2023-10-08T01:03:57.803331Z",
     "start_time": "2023-10-08T01:03:57.414728Z"
    }
   },
   "outputs": [
    {
     "data": {
      "text/plain": "<Figure size 640x480 with 1 Axes>",
      "image/png": "[encoded data removed]"
     },
     "metadata": {},
     "output_type": "display_data"
    }
   ],
   "source": [
    "if r:\n",
    "    plt.plot(r.history['loss'], label='loss')\n",
    "    plt.xlabel(\"epochs\")\n",
    "    plt.ylabel(\"loss\")\n",
    "    plt.legend()\n",
    "    plt.show()"
   ]
  },
  {
   "cell_type": "markdown",
   "source": [
    "<a id=\"0\"></a>\n",
    "<div style=\"background-color: teal; padding: 10px;\">\n",
    "    <h3 style=\"color: white;\">Save the model weights</h3>\n",
    "</div>"
   ],
   "metadata": {
    "collapsed": false,
    "id": "JmXxG5Gv_yDr"
   }
  },
  {
   "cell_type": "code",
   "execution_count": 25,
   "outputs": [],
   "source": [
    "model_path = get_directory('model_path')\n",
    "\n",
    "weights_file=os.path.join(model_path, 'model_weights.h5')\n",
    "model.model.save_weights(weights_file)\n"
   ],
   "metadata": {
    "id": "ts-9AsZt_yDr",
    "executionInfo": {
     "status": "ok",
     "timestamp": 1696718056580,
     "user_tz": 420,
     "elapsed": 5414,
     "user": {
      "displayName": "Chris Lomeli",
      "userId": "08772038892035982771"
     }
    },
    "ExecuteTime": {
     "end_time": "2023-10-08T01:04:17.865074Z",
     "start_time": "2023-10-08T01:04:17.736082Z"
    }
   }
  }
 ],
 "metadata": {
  "accelerator": "GPU",
  "colab": {
   "machine_shape": "hm",
   "provenance": [
    {
     "file_id": "1J4xYWJ1QBFctHuzEAS2BIKbA6fb0M1qX",
     "timestamp": 1696718116479
    }
   ]
  },
  "kernelspec": {
   "name": "python3",
   "language": "python",
   "display_name": "Python 3 (ipykernel)"
  },
  "language_info": {
   "name": "python"
  }
 },
 "nbformat": 4,
 "nbformat_minor": 0
}
